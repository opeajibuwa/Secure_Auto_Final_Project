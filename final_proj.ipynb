{
 "cells": [
  {
   "cell_type": "markdown",
   "id": "6400fbe3",
   "metadata": {},
   "source": [
    "#### import all packages"
   ]
  },
  {
   "cell_type": "code",
   "execution_count": 4,
   "id": "79c9a5fa",
   "metadata": {},
   "outputs": [],
   "source": [
    "import os\n",
    "import json\n",
    "import csv\n",
    "import pandas as pd\n",
    "import re"
   ]
  },
  {
   "cell_type": "markdown",
   "id": "c7a51387",
   "metadata": {},
   "source": [
    "#### get ground truth labels"
   ]
  },
  {
   "cell_type": "code",
   "execution_count": 5,
   "id": "f5ec4f02",
   "metadata": {},
   "outputs": [],
   "source": [
    "# assign veremi directory\n",
    "directory = '/Users/Opeyemi/Desktop/Secure_Auto_ECE599/MP_HW/MP3-contest-V2X/VeReMi_training_set'\n",
    "\n",
    "# get all vehicle attack types\n",
    "ground_truth = {'attackers':[], 'normal':[]}\n",
    "\n",
    "# iterate over files in the directory\n",
    "for filename in os.listdir(directory):\n",
    "    parts = re.split('-', filename)\n",
    "    third_str = parts[2].strip(\"A.json\")\n",
    "    if int(third_str) == 0:\n",
    "        ground_truth['normal'].append(int(parts[1]))\n",
    "    elif int(third_str)  != 0:\n",
    "        ground_truth['attackers'].append(int(parts[1]))"
   ]
  },
  {
   "cell_type": "markdown",
   "id": "bd56860b",
   "metadata": {},
   "source": [
    "#### data extraction for training & test datasets"
   ]
  },
  {
   "cell_type": "code",
   "execution_count": 33,
   "id": "3a8fbd08",
   "metadata": {},
   "outputs": [],
   "source": [
    "file_list = []\n",
    "directory = '/Users/Opeyemi/Desktop/Secure_Auto_ECE599/MP_HW/MP3-contest-V2X/VeReMi_test_set'\n",
    "for filename in os.listdir(directory):\n",
    "    file_dir =  \"/Users/Opeyemi/Desktop/Secure_Auto_ECE599/MP_HW/MP3-contest-V2X/VeReMi_test_set/\" + str(filename)\n",
    "    file_list.append(file_dir)\n",
    "\n",
    "new_file_list = []\n",
    "\n",
    "    #for training data extraction\n",
    "# dictionary = {'type':[], 'rcvTime': [], 'sendTime':[], 'sender': [], 'messageID': [], \n",
    "#               'pos_x':[], 'pos_y':[], 'pos_noise_x':[], 'pos_noise_y':[], 'spd_x': [], \n",
    "#               'spd_y': [],  'spd_noise_x':[], 'spd_noise_y':[], 'acl_x': [], 'acl_y': [],\n",
    "#               'acl_noise_x': [], 'acl_noise_y': [], 'hed_x': [], 'hed_y': [], 'hed_noise_x':[],\n",
    "#               'hed_noise_y':[], 'label': []}\n",
    "\n",
    "    #for test data extraction\n",
    "dictionary = {'type':[], 'rcvTime': [], 'sendTime':[], 'sender': [], 'messageID': [], \n",
    "              'pos_x':[], 'pos_y':[], 'pos_noise_x':[], 'pos_noise_y':[], 'spd_x': [], \n",
    "              'spd_y': [],  'spd_noise_x':[], 'spd_noise_y':[], 'acl_x': [], 'acl_y': [],\n",
    "              'acl_noise_x': [], 'acl_noise_y': [], 'hed_x': [], 'hed_y': [], 'hed_noise_x':[],\n",
    "              'hed_noise_y':[]}\n",
    "\n",
    "for file in file_list:\n",
    "    file_in = open(file,'r')\n",
    "    file_lines = file_in.readlines()\n",
    "    for json_file in file_lines:\n",
    "        b = json_file.split(\"{\\\"type\\\":\")\n",
    "        for item in b:\n",
    "            if item:\n",
    "                new_file_list.append(str(\"{\\\"type\\\":\"+item))\n",
    "    \n",
    "    data_dict = []        \n",
    "    for item in new_file_list:\n",
    "        data = json.loads(item)\n",
    "        data_dict.append(data)\n",
    "    \n",
    "    for itemize in data_dict:\n",
    "        if(itemize['type']==2):\n",
    "            pass\n",
    "#             dictionary['type'].append(itemize['type'])\n",
    "#             dictionary['rcvTime'].append(itemize['rcvTime'])\n",
    "#             dictionary['sendTime'].append(0)\n",
    "#             dictionary['sender'].append(0)\n",
    "#             dictionary['messageID'].append(0)\n",
    "#             dictionary['label'].append(0)  ##uncomment for training datasets\n",
    "#             dictionary['pos_x'].append(itemize['pos'][0])\n",
    "#             dictionary['pos_y'].append(itemize['pos'][1])\n",
    "#             dictionary['pos_noise_x'].append(itemize['pos_noise'][0])\n",
    "#             dictionary['pos_noise_y'].append(itemize['pos_noise'][1])\n",
    "#             dictionary['spd_x'].append(itemize['spd'][0])\n",
    "#             dictionary['spd_y'].append(itemize['spd'][1])\n",
    "#             dictionary['spd_noise_x'].append(itemize['spd_noise'][0])\n",
    "#             dictionary['spd_noise_y'].append(itemize['spd_noise'][1])\n",
    "#             dictionary['acl_x'].append(itemize['acl'][0])\n",
    "#             dictionary['acl_y'].append(itemize['acl'][1])\n",
    "#             dictionary['acl_noise_x'].append(itemize['acl_noise'][0])\n",
    "#             dictionary['acl_noise_y'].append(itemize['acl_noise'][1])\n",
    "#             dictionary['hed_x'].append(itemize['hed'][0])\n",
    "#             dictionary['hed_y'].append(itemize['hed'][1])\n",
    "#             dictionary['hed_noise_x'].append(itemize['hed_noise'][0])\n",
    "#             dictionary['hed_noise_y'].append(itemize['hed_noise'][1])\n",
    "            \n",
    "                        \n",
    "        elif(itemize['type']==3):\n",
    "            dictionary['type'].append(itemize['type'])\n",
    "            dictionary['rcvTime'].append(itemize['rcvTime'])\n",
    "            dictionary['sendTime'].append(itemize['sendTime'])\n",
    "            dictionary['sender'].append(itemize['sender'])\n",
    "            dictionary['messageID'].append(itemize['messageID'])\n",
    "            dictionary['pos_x'].append(itemize['pos'][0])\n",
    "            dictionary['pos_y'].append(itemize['pos'][1])\n",
    "            dictionary['pos_noise_x'].append(itemize['pos_noise'][0])\n",
    "            dictionary['pos_noise_y'].append(itemize['pos_noise'][1])\n",
    "            dictionary['spd_x'].append(itemize['spd'][0])\n",
    "            dictionary['spd_y'].append(itemize['spd'][1])\n",
    "            dictionary['spd_noise_x'].append(itemize['spd_noise'][0])\n",
    "            dictionary['spd_noise_y'].append(itemize['spd_noise'][1])\n",
    "            dictionary['acl_x'].append(itemize['acl'][0])\n",
    "            dictionary['acl_y'].append(itemize['acl'][1])\n",
    "            dictionary['acl_noise_x'].append(itemize['acl_noise'][0])\n",
    "            dictionary['acl_noise_y'].append(itemize['acl_noise'][1])\n",
    "            dictionary['hed_x'].append(itemize['hed'][0])\n",
    "            dictionary['hed_y'].append(itemize['hed'][1])\n",
    "            dictionary['hed_noise_x'].append(itemize['hed_noise'][0])\n",
    "            dictionary['hed_noise_y'].append(itemize['hed_noise'][1])\n",
    "            \n",
    "            ##uncomment for training datasets\n",
    "#             if itemize['sender'] in ground_truth['attackers']:   \n",
    "#                 dictionary['label'].append(1)\n",
    "#             elif itemize['sender'] in ground_truth['normal']:\n",
    "#                 dictionary['label'].append(0)\n",
    "        \n",
    "        \n",
    "    new_file_list.clear()\n",
    "    data_dict.clear()\n",
    "    \n",
    "\n",
    "df = pd.DataFrame(dictionary)\n",
    "df.to_csv('testing_data.csv', index=False)\n",
    "    "
   ]
  },
  {
   "cell_type": "markdown",
   "id": "3b5b5f2d",
   "metadata": {},
   "source": [
    "#### read in the training dataset"
   ]
  },
  {
   "cell_type": "code",
   "execution_count": 6,
   "id": "aeb13b55",
   "metadata": {},
   "outputs": [],
   "source": [
    "read = pd.read_csv('/Users/Opeyemi/Desktop/Secure_Auto_ECE599/MP_HW/training_data.csv')"
   ]
  },
  {
   "cell_type": "code",
   "execution_count": 7,
   "id": "0c9935aa",
   "metadata": {
    "scrolled": true
   },
   "outputs": [
    {
     "data": {
      "text/plain": [
       "(4695795, 22)"
      ]
     },
     "execution_count": 7,
     "metadata": {},
     "output_type": "execute_result"
    }
   ],
   "source": [
    "read.shape"
   ]
  },
  {
   "cell_type": "code",
   "execution_count": 8,
   "id": "deef5bf2",
   "metadata": {},
   "outputs": [
    {
     "data": {
      "text/html": [
       "<div>\n",
       "<style scoped>\n",
       "    .dataframe tbody tr th:only-of-type {\n",
       "        vertical-align: middle;\n",
       "    }\n",
       "\n",
       "    .dataframe tbody tr th {\n",
       "        vertical-align: top;\n",
       "    }\n",
       "\n",
       "    .dataframe thead th {\n",
       "        text-align: right;\n",
       "    }\n",
       "</style>\n",
       "<table border=\"1\" class=\"dataframe\">\n",
       "  <thead>\n",
       "    <tr style=\"text-align: right;\">\n",
       "      <th></th>\n",
       "      <th>type</th>\n",
       "      <th>rcvTime</th>\n",
       "      <th>sendTime</th>\n",
       "      <th>sender</th>\n",
       "      <th>messageID</th>\n",
       "      <th>pos_x</th>\n",
       "      <th>pos_y</th>\n",
       "      <th>pos_noise_x</th>\n",
       "      <th>pos_noise_y</th>\n",
       "      <th>spd_x</th>\n",
       "      <th>...</th>\n",
       "      <th>spd_noise_y</th>\n",
       "      <th>acl_x</th>\n",
       "      <th>acl_y</th>\n",
       "      <th>acl_noise_x</th>\n",
       "      <th>acl_noise_y</th>\n",
       "      <th>hed_x</th>\n",
       "      <th>hed_y</th>\n",
       "      <th>hed_noise_x</th>\n",
       "      <th>hed_noise_y</th>\n",
       "      <th>label</th>\n",
       "    </tr>\n",
       "  </thead>\n",
       "  <tbody>\n",
       "    <tr>\n",
       "      <th>0</th>\n",
       "      <td>3</td>\n",
       "      <td>24902.177338</td>\n",
       "      <td>24902.177338</td>\n",
       "      <td>6282</td>\n",
       "      <td>16859490</td>\n",
       "      <td>153.631000</td>\n",
       "      <td>901.498705</td>\n",
       "      <td>3.006184</td>\n",
       "      <td>3.085705</td>\n",
       "      <td>0.057179</td>\n",
       "      <td>...</td>\n",
       "      <td>-5.925723e-03</td>\n",
       "      <td>-0.051949</td>\n",
       "      <td>0.701019</td>\n",
       "      <td>4.420072e-04</td>\n",
       "      <td>5.960614e-03</td>\n",
       "      <td>-0.000874</td>\n",
       "      <td>-1.000000</td>\n",
       "      <td>8.977733</td>\n",
       "      <td>9.748741</td>\n",
       "      <td>0</td>\n",
       "    </tr>\n",
       "    <tr>\n",
       "      <th>1</th>\n",
       "      <td>3</td>\n",
       "      <td>24902.363124</td>\n",
       "      <td>24902.363124</td>\n",
       "      <td>6238</td>\n",
       "      <td>16860636</td>\n",
       "      <td>131.193115</td>\n",
       "      <td>886.349327</td>\n",
       "      <td>3.742334</td>\n",
       "      <td>3.721263</td>\n",
       "      <td>-7.243460</td>\n",
       "      <td>...</td>\n",
       "      <td>-1.766351e-03</td>\n",
       "      <td>4.487658</td>\n",
       "      <td>0.337253</td>\n",
       "      <td>4.517968e-03</td>\n",
       "      <td>4.305957e-04</td>\n",
       "      <td>-0.972848</td>\n",
       "      <td>0.231444</td>\n",
       "      <td>32.825342</td>\n",
       "      <td>16.795064</td>\n",
       "      <td>0</td>\n",
       "    </tr>\n",
       "    <tr>\n",
       "      <th>2</th>\n",
       "      <td>3</td>\n",
       "      <td>24902.430649</td>\n",
       "      <td>24902.430649</td>\n",
       "      <td>6292</td>\n",
       "      <td>16861406</td>\n",
       "      <td>142.516325</td>\n",
       "      <td>956.208205</td>\n",
       "      <td>3.816335</td>\n",
       "      <td>3.677395</td>\n",
       "      <td>1.176883</td>\n",
       "      <td>...</td>\n",
       "      <td>2.713546e-02</td>\n",
       "      <td>-0.049455</td>\n",
       "      <td>0.668839</td>\n",
       "      <td>1.195901e-05</td>\n",
       "      <td>1.610854e-04</td>\n",
       "      <td>0.047814</td>\n",
       "      <td>-0.998856</td>\n",
       "      <td>14.526789</td>\n",
       "      <td>79.943661</td>\n",
       "      <td>0</td>\n",
       "    </tr>\n",
       "    <tr>\n",
       "      <th>3</th>\n",
       "      <td>3</td>\n",
       "      <td>24902.659224</td>\n",
       "      <td>24902.659224</td>\n",
       "      <td>6297</td>\n",
       "      <td>16864278</td>\n",
       "      <td>150.606615</td>\n",
       "      <td>931.842937</td>\n",
       "      <td>3.368974</td>\n",
       "      <td>3.264453</td>\n",
       "      <td>0.042362</td>\n",
       "      <td>...</td>\n",
       "      <td>-0.000000e+00</td>\n",
       "      <td>0.207464</td>\n",
       "      <td>-2.796991</td>\n",
       "      <td>2.124597e-03</td>\n",
       "      <td>2.124597e-03</td>\n",
       "      <td>0.071074</td>\n",
       "      <td>-0.997471</td>\n",
       "      <td>14.514750</td>\n",
       "      <td>15.433341</td>\n",
       "      <td>0</td>\n",
       "    </tr>\n",
       "    <tr>\n",
       "      <th>4</th>\n",
       "      <td>3</td>\n",
       "      <td>24902.962659</td>\n",
       "      <td>24902.962659</td>\n",
       "      <td>6293</td>\n",
       "      <td>16866880</td>\n",
       "      <td>132.277985</td>\n",
       "      <td>966.624885</td>\n",
       "      <td>3.633423</td>\n",
       "      <td>3.643670</td>\n",
       "      <td>-0.957886</td>\n",
       "      <td>...</td>\n",
       "      <td>-1.821052e-02</td>\n",
       "      <td>-0.017740</td>\n",
       "      <td>0.245176</td>\n",
       "      <td>7.724623e-06</td>\n",
       "      <td>1.043900e-04</td>\n",
       "      <td>-0.062836</td>\n",
       "      <td>0.998024</td>\n",
       "      <td>8.065810</td>\n",
       "      <td>2.011839</td>\n",
       "      <td>0</td>\n",
       "    </tr>\n",
       "    <tr>\n",
       "      <th>...</th>\n",
       "      <td>...</td>\n",
       "      <td>...</td>\n",
       "      <td>...</td>\n",
       "      <td>...</td>\n",
       "      <td>...</td>\n",
       "      <td>...</td>\n",
       "      <td>...</td>\n",
       "      <td>...</td>\n",
       "      <td>...</td>\n",
       "      <td>...</td>\n",
       "      <td>...</td>\n",
       "      <td>...</td>\n",
       "      <td>...</td>\n",
       "      <td>...</td>\n",
       "      <td>...</td>\n",
       "      <td>...</td>\n",
       "      <td>...</td>\n",
       "      <td>...</td>\n",
       "      <td>...</td>\n",
       "      <td>...</td>\n",
       "      <td>...</td>\n",
       "    </tr>\n",
       "    <tr>\n",
       "      <th>4695790</th>\n",
       "      <td>3</td>\n",
       "      <td>27278.690166</td>\n",
       "      <td>27278.690166</td>\n",
       "      <td>1013</td>\n",
       "      <td>36284452</td>\n",
       "      <td>146.942873</td>\n",
       "      <td>898.689335</td>\n",
       "      <td>4.754023</td>\n",
       "      <td>4.651908</td>\n",
       "      <td>0.201501</td>\n",
       "      <td>...</td>\n",
       "      <td>7.284552e-03</td>\n",
       "      <td>-0.146520</td>\n",
       "      <td>2.950374</td>\n",
       "      <td>2.176258e-04</td>\n",
       "      <td>2.937272e-03</td>\n",
       "      <td>0.020616</td>\n",
       "      <td>-0.999787</td>\n",
       "      <td>9.058925</td>\n",
       "      <td>13.863561</td>\n",
       "      <td>1</td>\n",
       "    </tr>\n",
       "    <tr>\n",
       "      <th>4695791</th>\n",
       "      <td>3</td>\n",
       "      <td>27278.761387</td>\n",
       "      <td>27278.761387</td>\n",
       "      <td>982</td>\n",
       "      <td>36284841</td>\n",
       "      <td>143.050415</td>\n",
       "      <td>691.732655</td>\n",
       "      <td>4.403055</td>\n",
       "      <td>4.880519</td>\n",
       "      <td>0.141298</td>\n",
       "      <td>...</td>\n",
       "      <td>3.085843e-07</td>\n",
       "      <td>1.781324</td>\n",
       "      <td>0.123572</td>\n",
       "      <td>1.190325e-11</td>\n",
       "      <td>1.190325e-11</td>\n",
       "      <td>-0.821814</td>\n",
       "      <td>-0.187632</td>\n",
       "      <td>11.694996</td>\n",
       "      <td>11.694996</td>\n",
       "      <td>1</td>\n",
       "    </tr>\n",
       "    <tr>\n",
       "      <th>4695792</th>\n",
       "      <td>3</td>\n",
       "      <td>27278.850301</td>\n",
       "      <td>27278.850301</td>\n",
       "      <td>964</td>\n",
       "      <td>36285444</td>\n",
       "      <td>160.665357</td>\n",
       "      <td>888.659299</td>\n",
       "      <td>3.693708</td>\n",
       "      <td>3.809228</td>\n",
       "      <td>0.002168</td>\n",
       "      <td>...</td>\n",
       "      <td>-2.697490e-06</td>\n",
       "      <td>0.000815</td>\n",
       "      <td>0.000815</td>\n",
       "      <td>0.000000e+00</td>\n",
       "      <td>0.000000e+00</td>\n",
       "      <td>-0.993781</td>\n",
       "      <td>-0.111353</td>\n",
       "      <td>1.230074</td>\n",
       "      <td>1.230074</td>\n",
       "      <td>0</td>\n",
       "    </tr>\n",
       "    <tr>\n",
       "      <th>4695793</th>\n",
       "      <td>3</td>\n",
       "      <td>27278.927853</td>\n",
       "      <td>27278.927853</td>\n",
       "      <td>986</td>\n",
       "      <td>36285775</td>\n",
       "      <td>198.280573</td>\n",
       "      <td>894.015220</td>\n",
       "      <td>4.170410</td>\n",
       "      <td>4.420227</td>\n",
       "      <td>-7.139299</td>\n",
       "      <td>...</td>\n",
       "      <td>-2.069810e-03</td>\n",
       "      <td>2.158095</td>\n",
       "      <td>0.288321</td>\n",
       "      <td>6.266844e-03</td>\n",
       "      <td>1.073104e-02</td>\n",
       "      <td>-0.993188</td>\n",
       "      <td>0.116524</td>\n",
       "      <td>33.910844</td>\n",
       "      <td>18.259398</td>\n",
       "      <td>0</td>\n",
       "    </tr>\n",
       "    <tr>\n",
       "      <th>4695794</th>\n",
       "      <td>3</td>\n",
       "      <td>27278.976727</td>\n",
       "      <td>27278.976727</td>\n",
       "      <td>975</td>\n",
       "      <td>36286017</td>\n",
       "      <td>134.134104</td>\n",
       "      <td>940.508481</td>\n",
       "      <td>4.664762</td>\n",
       "      <td>4.229998</td>\n",
       "      <td>-0.872303</td>\n",
       "      <td>...</td>\n",
       "      <td>8.678450e-03</td>\n",
       "      <td>0.044566</td>\n",
       "      <td>-0.600275</td>\n",
       "      <td>7.423468e-07</td>\n",
       "      <td>1.001799e-05</td>\n",
       "      <td>-0.020204</td>\n",
       "      <td>0.999796</td>\n",
       "      <td>6.220366</td>\n",
       "      <td>1.756620</td>\n",
       "      <td>0</td>\n",
       "    </tr>\n",
       "  </tbody>\n",
       "</table>\n",
       "<p>4695795 rows × 22 columns</p>\n",
       "</div>"
      ],
      "text/plain": [
       "         type       rcvTime      sendTime  sender  messageID       pos_x  \\\n",
       "0           3  24902.177338  24902.177338    6282   16859490  153.631000   \n",
       "1           3  24902.363124  24902.363124    6238   16860636  131.193115   \n",
       "2           3  24902.430649  24902.430649    6292   16861406  142.516325   \n",
       "3           3  24902.659224  24902.659224    6297   16864278  150.606615   \n",
       "4           3  24902.962659  24902.962659    6293   16866880  132.277985   \n",
       "...       ...           ...           ...     ...        ...         ...   \n",
       "4695790     3  27278.690166  27278.690166    1013   36284452  146.942873   \n",
       "4695791     3  27278.761387  27278.761387     982   36284841  143.050415   \n",
       "4695792     3  27278.850301  27278.850301     964   36285444  160.665357   \n",
       "4695793     3  27278.927853  27278.927853     986   36285775  198.280573   \n",
       "4695794     3  27278.976727  27278.976727     975   36286017  134.134104   \n",
       "\n",
       "              pos_y  pos_noise_x  pos_noise_y     spd_x  ...   spd_noise_y  \\\n",
       "0        901.498705     3.006184     3.085705  0.057179  ... -5.925723e-03   \n",
       "1        886.349327     3.742334     3.721263 -7.243460  ... -1.766351e-03   \n",
       "2        956.208205     3.816335     3.677395  1.176883  ...  2.713546e-02   \n",
       "3        931.842937     3.368974     3.264453  0.042362  ... -0.000000e+00   \n",
       "4        966.624885     3.633423     3.643670 -0.957886  ... -1.821052e-02   \n",
       "...             ...          ...          ...       ...  ...           ...   \n",
       "4695790  898.689335     4.754023     4.651908  0.201501  ...  7.284552e-03   \n",
       "4695791  691.732655     4.403055     4.880519  0.141298  ...  3.085843e-07   \n",
       "4695792  888.659299     3.693708     3.809228  0.002168  ... -2.697490e-06   \n",
       "4695793  894.015220     4.170410     4.420227 -7.139299  ... -2.069810e-03   \n",
       "4695794  940.508481     4.664762     4.229998 -0.872303  ...  8.678450e-03   \n",
       "\n",
       "            acl_x     acl_y   acl_noise_x   acl_noise_y     hed_x     hed_y  \\\n",
       "0       -0.051949  0.701019  4.420072e-04  5.960614e-03 -0.000874 -1.000000   \n",
       "1        4.487658  0.337253  4.517968e-03  4.305957e-04 -0.972848  0.231444   \n",
       "2       -0.049455  0.668839  1.195901e-05  1.610854e-04  0.047814 -0.998856   \n",
       "3        0.207464 -2.796991  2.124597e-03  2.124597e-03  0.071074 -0.997471   \n",
       "4       -0.017740  0.245176  7.724623e-06  1.043900e-04 -0.062836  0.998024   \n",
       "...           ...       ...           ...           ...       ...       ...   \n",
       "4695790 -0.146520  2.950374  2.176258e-04  2.937272e-03  0.020616 -0.999787   \n",
       "4695791  1.781324  0.123572  1.190325e-11  1.190325e-11 -0.821814 -0.187632   \n",
       "4695792  0.000815  0.000815  0.000000e+00  0.000000e+00 -0.993781 -0.111353   \n",
       "4695793  2.158095  0.288321  6.266844e-03  1.073104e-02 -0.993188  0.116524   \n",
       "4695794  0.044566 -0.600275  7.423468e-07  1.001799e-05 -0.020204  0.999796   \n",
       "\n",
       "         hed_noise_x  hed_noise_y  label  \n",
       "0           8.977733     9.748741      0  \n",
       "1          32.825342    16.795064      0  \n",
       "2          14.526789    79.943661      0  \n",
       "3          14.514750    15.433341      0  \n",
       "4           8.065810     2.011839      0  \n",
       "...              ...          ...    ...  \n",
       "4695790     9.058925    13.863561      1  \n",
       "4695791    11.694996    11.694996      1  \n",
       "4695792     1.230074     1.230074      0  \n",
       "4695793    33.910844    18.259398      0  \n",
       "4695794     6.220366     1.756620      0  \n",
       "\n",
       "[4695795 rows x 22 columns]"
      ]
     },
     "execution_count": 8,
     "metadata": {},
     "output_type": "execute_result"
    }
   ],
   "source": [
    "read"
   ]
  },
  {
   "cell_type": "code",
   "execution_count": 9,
   "id": "78e27cbf",
   "metadata": {},
   "outputs": [],
   "source": [
    "read = read[['type', 'messageID', 'sender', 'sendTime', 'rcvTime', 'pos_x', 'pos_y', \n",
    "                   'pos_noise_x', 'pos_noise_y', 'spd_x', 'spd_y', 'spd_noise_x', 'spd_noise_y', \n",
    "                    'acl_x', 'acl_y', 'acl_noise_x', 'acl_noise_y', 'hed_x', \n",
    "                   'hed_y', 'hed_noise_x', 'hed_noise_y', 'label']]"
   ]
  },
  {
   "cell_type": "code",
   "execution_count": 10,
   "id": "70537cec",
   "metadata": {},
   "outputs": [
    {
     "data": {
      "text/plain": [
       "0    3183484\n",
       "1    1512311\n",
       "Name: label, dtype: int64"
      ]
     },
     "execution_count": 10,
     "metadata": {},
     "output_type": "execute_result"
    }
   ],
   "source": [
    "read.label.value_counts()"
   ]
  },
  {
   "cell_type": "markdown",
   "id": "4367b66d",
   "metadata": {},
   "source": [
    "#### train a simple tree-based ML classifier on the training dataset and evaluate the performance"
   ]
  },
  {
   "cell_type": "code",
   "execution_count": 11,
   "id": "b12fab56",
   "metadata": {},
   "outputs": [],
   "source": [
    "import warnings\n",
    "warnings.filterwarnings(\"ignore\")"
   ]
  },
  {
   "cell_type": "code",
   "execution_count": 12,
   "id": "dc87e8d3",
   "metadata": {},
   "outputs": [],
   "source": [
    "import pandas as pd\n",
    "import numpy as np\n",
    "import seaborn as sns\n",
    "import matplotlib.pyplot as plt\n",
    "from sklearn.preprocessing import LabelEncoder\n",
    "from sklearn.impute import SimpleImputer\n",
    "from sklearn.model_selection import train_test_split\n",
    "from sklearn.metrics import classification_report, confusion_matrix, accuracy_score, precision_recall_fscore_support\n",
    "from sklearn.metrics import f1_score\n",
    "from sklearn.ensemble import RandomForestClassifier, ExtraTreesClassifier\n",
    "from sklearn.tree import DecisionTreeClassifier\n",
    "import xgboost as xgb\n",
    "from xgboost import plot_importance"
   ]
  },
  {
   "cell_type": "markdown",
   "id": "d3973c69",
   "metadata": {},
   "source": [
    "#### Preprocessing (normalization and padding values)"
   ]
  },
  {
   "cell_type": "code",
   "execution_count": 13,
   "id": "16029e0c",
   "metadata": {},
   "outputs": [],
   "source": [
    "# Min-max normalization\n",
    "numeric_features = read.dtypes[read.dtypes != 'object'].index\n",
    "read[numeric_features] = read[numeric_features].apply(lambda x: (x-x.min()) / (x.max()-x.min()))\n",
    "# Fill empty values with 0\n",
    "read = read.fillna(0)"
   ]
  },
  {
   "cell_type": "markdown",
   "id": "5be6b424",
   "metadata": {},
   "source": [
    "#### Split train and validation sets"
   ]
  },
  {
   "cell_type": "code",
   "execution_count": 14,
   "id": "c09e278f",
   "metadata": {},
   "outputs": [],
   "source": [
    "labelencoder = LabelEncoder()\n",
    "read.iloc[:, -1] = labelencoder.fit_transform(read.iloc[:, -1])"
   ]
  },
  {
   "cell_type": "code",
   "execution_count": 15,
   "id": "f7020239",
   "metadata": {},
   "outputs": [],
   "source": [
    "X = read.drop(['label'], axis=1).values\n",
    "y = read.iloc[:, -1].values.reshape(-1,1)\n",
    "y = np.ravel(y)\n",
    "X_train, X_test, y_train, y_test = train_test_split(X, y, train_size=0.8, test_size=0.2, random_state=0, stratify=y)"
   ]
  },
  {
   "cell_type": "code",
   "execution_count": 16,
   "id": "fd52ca27",
   "metadata": {
    "scrolled": true
   },
   "outputs": [
    {
     "data": {
      "text/plain": [
       "(3756636, 21)"
      ]
     },
     "execution_count": 16,
     "metadata": {},
     "output_type": "execute_result"
    }
   ],
   "source": [
    "X_train.shape"
   ]
  },
  {
   "cell_type": "code",
   "execution_count": 17,
   "id": "0da39fe4",
   "metadata": {},
   "outputs": [
    {
     "data": {
      "text/plain": [
       "0    2546787\n",
       "1    1209849\n",
       "dtype: int64"
      ]
     },
     "execution_count": 17,
     "metadata": {},
     "output_type": "execute_result"
    }
   ],
   "source": [
    "pd.Series(y_train).value_counts()"
   ]
  },
  {
   "cell_type": "markdown",
   "id": "cf081c40",
   "metadata": {},
   "source": [
    "#### Machine Learning model training\n",
    "##### Training four base learners : decision tree, random forest, extra trees, XGBoost"
   ]
  },
  {
   "cell_type": "code",
   "execution_count": 19,
   "id": "9b803cb8",
   "metadata": {
    "scrolled": true
   },
   "outputs": [
    {
     "name": "stdout",
     "output_type": "stream",
     "text": [
      "Accuracy of DT: 0.9977021995210609\n",
      "Precision of DT:0.9977018211305257\n",
      "Recall of DT: 0.9977021995210609\n",
      "F1-score of DT: 0.9977017640916803\n",
      "              precision    recall  f1-score   support\n",
      "\n",
      "           0       1.00      1.00      1.00    636697\n",
      "           1       1.00      1.00      1.00    302462\n",
      "\n",
      "    accuracy                           1.00    939159\n",
      "   macro avg       1.00      1.00      1.00    939159\n",
      "weighted avg       1.00      1.00      1.00    939159\n",
      "\n"
     ]
    },
    {
     "data": {
      "image/png": "[encoded data removed]",
      "text/plain": [
       "<Figure size 360x360 with 2 Axes>"
      ]
     },
     "metadata": {
      "needs_background": "light"
     },
     "output_type": "display_data"
    }
   ],
   "source": [
    "# Decision tree training and prediction\n",
    "dt = DecisionTreeClassifier(random_state = 0, max_depth=50)\n",
    "dt.fit(X_train, y_train)\n",
    "dt_score=dt.score(X_test, y_test)\n",
    "y_predict = dt.predict(X_test)\n",
    "y_true = y_test\n",
    "print('Accuracy of DT: '+str(dt_score))\n",
    "precision, recall, fscore, none = precision_recall_fscore_support(y_true, y_predict, average='weighted')\n",
    "print('Precision of DT:' +(str(precision)))\n",
    "print('Recall of DT: ' +(str(recall)))\n",
    "print('F1-score of DT: ' +(str(fscore)))\n",
    "print(classification_report(y_true, y_predict))\n",
    "cm = confusion_matrix(y_true, y_predict)\n",
    "f, ax = plt.subplots(figsize=(5,5))\n",
    "sns.heatmap(cm, annot=True, linewidth=0.5, linecolor=\"red\", fmt=\" .0f\", ax=ax)\n",
    "plt.xlabel('y_pred')\n",
    "plt.ylabel('y_true')\n",
    "plt.show()"
   ]
  },
  {
   "cell_type": "code",
   "execution_count": 20,
   "id": "01b6b11c",
   "metadata": {},
   "outputs": [],
   "source": [
    "dt_train = dt.predict(X_train)\n",
    "dt_test = dt.predict(X_test)"
   ]
  },
  {
   "cell_type": "code",
   "execution_count": 21,
   "id": "f15abd7c",
   "metadata": {},
   "outputs": [
    {
     "data": {
      "text/plain": [
       "array([1, 1, 0, ..., 0, 0, 1], dtype=int64)"
      ]
     },
     "execution_count": 21,
     "metadata": {},
     "output_type": "execute_result"
    }
   ],
   "source": [
    "dt_test"
   ]
  },
  {
   "cell_type": "code",
   "execution_count": 22,
   "id": "d71bcc73",
   "metadata": {},
   "outputs": [
    {
     "data": {
      "text/plain": [
       "array([1, 1, 0, ..., 0, 0, 1], dtype=int64)"
      ]
     },
     "execution_count": 22,
     "metadata": {},
     "output_type": "execute_result"
    }
   ],
   "source": [
    "y_test"
   ]
  },
  {
   "cell_type": "code",
   "execution_count": 23,
   "id": "2ffd5492",
   "metadata": {},
   "outputs": [
    {
     "name": "stdout",
     "output_type": "stream",
     "text": [
      "Accuracy of RF: 0.9988425815011089\n",
      "Precision of RF: 0.9988429096277117\n",
      "Recall of RF: 0.9988425815011089\n",
      "F1-score of RF: 0.9988422799859231\n",
      "              precision    recall  f1-score   support\n",
      "\n",
      "           0       1.00      1.00      1.00    636697\n",
      "           1       1.00      1.00      1.00    302462\n",
      "\n",
      "    accuracy                           1.00    939159\n",
      "   macro avg       1.00      1.00      1.00    939159\n",
      "weighted avg       1.00      1.00      1.00    939159\n",
      "\n"
     ]
    },
    {
     "data": {
      "image/png": "[encoded data removed]",
      "text/plain": [
       "<Figure size 360x360 with 2 Axes>"
      ]
     },
     "metadata": {
      "needs_background": "light"
     },
     "output_type": "display_data"
    }
   ],
   "source": [
    "# Random Forest training and prediction\n",
    "rf = RandomForestClassifier(random_state = 0, n_jobs=-1)\n",
    "rf.fit(X_train,y_train)\n",
    "rf_score=rf.score(X_test,y_test)\n",
    "y_predict=rf.predict(X_test)\n",
    "y_true=y_test\n",
    "print('Accuracy of RF: ' +(str(rf_score)))\n",
    "precision,recall,fscore,none = precision_recall_fscore_support(y_true, y_predict, average='weighted')\n",
    "print('Precision of RF: '+(str(precision)))\n",
    "print('Recall of RF: '+(str(recall)))\n",
    "print('F1-score of RF: '+(str(fscore)))\n",
    "print(classification_report(y_true, y_predict))\n",
    "cm = confusion_matrix(y_true,y_predict)\n",
    "f,ax = plt.subplots(figsize=(5,5))\n",
    "sns.heatmap(cm, annot=True, linewidth=0.5,linecolor=\"red\",fmt='.0f',ax=ax)\n",
    "plt.xlabel(\"y_pred\")\n",
    "plt.ylabel(\"y_true\")\n",
    "plt.show()"
   ]
  },
  {
   "cell_type": "code",
   "execution_count": 24,
   "id": "322a4d16",
   "metadata": {},
   "outputs": [],
   "source": [
    "rf_train = rf.predict(X_train)\n",
    "rf_test = rf.predict(X_test)"
   ]
  },
  {
   "cell_type": "code",
   "execution_count": 25,
   "id": "3b3ec46d",
   "metadata": {},
   "outputs": [
    {
     "name": "stdout",
     "output_type": "stream",
     "text": [
      "Accuracy of ET: 0.9989405414844558\n",
      "Precision of ET: 0.9989407415071827\n",
      "Recall of ET: 0.9989405414844558\n",
      "F1-score of ET: 0.9989403079613961\n",
      "              precision    recall  f1-score   support\n",
      "\n",
      "           0       1.00      1.00      1.00    636697\n",
      "           1       1.00      1.00      1.00    302462\n",
      "\n",
      "    accuracy                           1.00    939159\n",
      "   macro avg       1.00      1.00      1.00    939159\n",
      "weighted avg       1.00      1.00      1.00    939159\n",
      "\n"
     ]
    },
    {
     "data": {
      "image/png": "[encoded data removed]",
      "text/plain": [
       "<Figure size 360x360 with 2 Axes>"
      ]
     },
     "metadata": {
      "needs_background": "light"
     },
     "output_type": "display_data"
    }
   ],
   "source": [
    "# Extra trees training and prediction\n",
    "et = ExtraTreesClassifier(random_state=0, n_jobs=-1, max_depth=50)\n",
    "et.fit(X_train,y_train)\n",
    "et_score = et.score(X_test,y_test)\n",
    "y_predict=et.predict(X_test)\n",
    "y_true=y_test\n",
    "print('Accuracy of ET: '+ str(et_score))\n",
    "precision,recall,fscore,none = precision_recall_fscore_support(y_true, y_predict, average='weighted')\n",
    "print('Precision of ET: '+(str(precision)))\n",
    "print('Recall of ET: '+(str(recall)))\n",
    "print('F1-score of ET: '+(str(fscore)))\n",
    "print(classification_report(y_true,y_predict))\n",
    "cm=confusion_matrix(y_true,y_predict)\n",
    "f, ax=plt.subplots(figsize=(5,5))\n",
    "sns.heatmap(cm,annot=True,linewidth=0.5,linecolor=\"red\",fmt=\".0f\",ax=ax)\n",
    "plt.xlabel(\"y_pred\")\n",
    "plt.ylabel('y_true')\n",
    "plt.show()"
   ]
  },
  {
   "cell_type": "code",
   "execution_count": 26,
   "id": "c9dbc7a5",
   "metadata": {},
   "outputs": [],
   "source": [
    "et_train = rf.predict(X_train)\n",
    "et_test = rf.predict(X_test)"
   ]
  },
  {
   "cell_type": "code",
   "execution_count": 27,
   "id": "8c831c5c",
   "metadata": {},
   "outputs": [
    {
     "name": "stdout",
     "output_type": "stream",
     "text": [
      "[13:06:24] WARNING: C:/Users/Administrator/workspace/xgboost-win64_release_1.5.1/src/learner.cc:1115: Starting in XGBoost 1.3.0, the default evaluation metric used with the objective 'binary:logistic' was changed from 'error' to 'logloss'. Explicitly set eval_metric if you'd like to restore the old behavior.\n",
      "Accuracy of XGBoost: 0.9978991842701822\n",
      "Precision of XGBoost: 0.9979008162673211\n",
      "Recall of XGBoost: 0.9978991842701822\n",
      "F1-score of XGBoost: 0.997898066025531\n",
      "              precision    recall  f1-score   support\n",
      "\n",
      "           0       1.00      1.00      1.00    636697\n",
      "           1       1.00      0.99      1.00    302462\n",
      "\n",
      "    accuracy                           1.00    939159\n",
      "   macro avg       1.00      1.00      1.00    939159\n",
      "weighted avg       1.00      1.00      1.00    939159\n",
      "\n"
     ]
    },
    {
     "data": {
      "image/png": "[encoded data removed]",
      "text/plain": [
       "<Figure size 360x360 with 2 Axes>"
      ]
     },
     "metadata": {
      "needs_background": "light"
     },
     "output_type": "display_data"
    }
   ],
   "source": [
    "# XGboost training and prediction\n",
    "xg = xgb.XGBClassifier(n_estimators=10, n_jobs=-1, max_depth=50)\n",
    "xg.fit(X_train,y_train)\n",
    "xg_score = xg.score(X_test,y_test)\n",
    "y_predict=xg.predict(X_test)\n",
    "y_true=y_test\n",
    "print('Accuracy of XGBoost: '+ str(xg_score))\n",
    "precision,recall,fscore,none = precision_recall_fscore_support(y_true, y_predict, average='weighted')\n",
    "print('Precision of XGBoost: '+(str(precision)))\n",
    "print('Recall of XGBoost: '+(str(recall)))\n",
    "print('F1-score of XGBoost: '+(str(fscore)))\n",
    "print(classification_report(y_true,y_predict))\n",
    "cm=confusion_matrix(y_true,y_predict)\n",
    "f, ax=plt.subplots(figsize=(5,5))\n",
    "sns.heatmap(cm,annot=True,linewidth=0.5,linecolor=\"red\",fmt=\".0f\",ax=ax)\n",
    "plt.xlabel(\"y_pred\")\n",
    "plt.ylabel('y_true')\n",
    "plt.show()"
   ]
  },
  {
   "cell_type": "code",
   "execution_count": 28,
   "id": "64ce13b0",
   "metadata": {},
   "outputs": [],
   "source": [
    "xg_train = xg.predict(X_train)\n",
    "xg_test = xg.predict(X_test)"
   ]
  },
  {
   "cell_type": "markdown",
   "id": "2ae71f0a",
   "metadata": {},
   "source": [
    "#### Stacking model construction (ensemble for 4 base learners)"
   ]
  },
  {
   "cell_type": "code",
   "execution_count": 29,
   "id": "454d6b78",
   "metadata": {},
   "outputs": [
    {
     "data": {
      "text/html": [
       "<div>\n",
       "<style scoped>\n",
       "    .dataframe tbody tr th:only-of-type {\n",
       "        vertical-align: middle;\n",
       "    }\n",
       "\n",
       "    .dataframe tbody tr th {\n",
       "        vertical-align: top;\n",
       "    }\n",
       "\n",
       "    .dataframe thead th {\n",
       "        text-align: right;\n",
       "    }\n",
       "</style>\n",
       "<table border=\"1\" class=\"dataframe\">\n",
       "  <thead>\n",
       "    <tr style=\"text-align: right;\">\n",
       "      <th></th>\n",
       "      <th>DecisionTree</th>\n",
       "      <th>RandomForest</th>\n",
       "      <th>ExtraTrees</th>\n",
       "      <th>XGBoost</th>\n",
       "    </tr>\n",
       "  </thead>\n",
       "  <tbody>\n",
       "    <tr>\n",
       "      <th>0</th>\n",
       "      <td>0</td>\n",
       "      <td>0</td>\n",
       "      <td>0</td>\n",
       "      <td>0</td>\n",
       "    </tr>\n",
       "    <tr>\n",
       "      <th>1</th>\n",
       "      <td>0</td>\n",
       "      <td>0</td>\n",
       "      <td>0</td>\n",
       "      <td>0</td>\n",
       "    </tr>\n",
       "    <tr>\n",
       "      <th>2</th>\n",
       "      <td>0</td>\n",
       "      <td>0</td>\n",
       "      <td>0</td>\n",
       "      <td>0</td>\n",
       "    </tr>\n",
       "    <tr>\n",
       "      <th>3</th>\n",
       "      <td>1</td>\n",
       "      <td>1</td>\n",
       "      <td>1</td>\n",
       "      <td>1</td>\n",
       "    </tr>\n",
       "    <tr>\n",
       "      <th>4</th>\n",
       "      <td>0</td>\n",
       "      <td>0</td>\n",
       "      <td>0</td>\n",
       "      <td>0</td>\n",
       "    </tr>\n",
       "  </tbody>\n",
       "</table>\n",
       "</div>"
      ],
      "text/plain": [
       "   DecisionTree  RandomForest  ExtraTrees  XGBoost\n",
       "0             0             0           0        0\n",
       "1             0             0           0        0\n",
       "2             0             0           0        0\n",
       "3             1             1           1        1\n",
       "4             0             0           0        0"
      ]
     },
     "execution_count": 29,
     "metadata": {},
     "output_type": "execute_result"
    }
   ],
   "source": [
    "# Use the outputs of 4 base models to construct a new ensemble model\n",
    "base_predictions_train = pd.DataFrame({\n",
    "    'DecisionTree': dt_train.ravel(),\n",
    "    'RandomForest': rf_train.ravel(),\n",
    "    'ExtraTrees': et_train.ravel(),\n",
    "    'XGBoost': xg_train.ravel(),\n",
    "})\n",
    "base_predictions_train.head(5)"
   ]
  },
  {
   "cell_type": "code",
   "execution_count": 30,
   "id": "8e4d2e5f",
   "metadata": {},
   "outputs": [],
   "source": [
    "dt_train=dt_train.reshape(-1,1)\n",
    "et_train=et_train.reshape(-1,1)\n",
    "rf_train=rf_train.reshape(-1,1)\n",
    "xg_train=xg_train.reshape(-1,1)\n",
    "dt_test=dt_test.reshape(-1,1)\n",
    "et_test=et_test.reshape(-1,1)\n",
    "rf_test=rf_test.reshape(-1,1)\n",
    "xg_test=xg_test.reshape(-1,1)"
   ]
  },
  {
   "cell_type": "code",
   "execution_count": 31,
   "id": "65eda2e6",
   "metadata": {},
   "outputs": [],
   "source": [
    "x_train= np.concatenate((dt_train, et_train, rf_train, xg_train), axis=1)\n",
    "x_test= np.concatenate((dt_test, et_test, rf_test, xg_test), axis=1)"
   ]
  },
  {
   "cell_type": "code",
   "execution_count": 32,
   "id": "d645d569",
   "metadata": {
    "scrolled": true
   },
   "outputs": [
    {
     "name": "stdout",
     "output_type": "stream",
     "text": [
      "[13:10:02] WARNING: C:/Users/Administrator/workspace/xgboost-win64_release_1.5.1/src/learner.cc:1115: Starting in XGBoost 1.3.0, the default evaluation metric used with the objective 'binary:logistic' was changed from 'error' to 'logloss'. Explicitly set eval_metric if you'd like to restore the old behavior.\n"
     ]
    }
   ],
   "source": [
    "stk = xgb.XGBClassifier().fit(x_train, y_train)"
   ]
  },
  {
   "cell_type": "code",
   "execution_count": 33,
   "id": "e657486e",
   "metadata": {},
   "outputs": [
    {
     "name": "stdout",
     "output_type": "stream",
     "text": [
      "Accuracy of Stacking: 0.9988425815011089\n",
      "Precision of Stacking: 0.9988429096277117\n",
      "Recall of Stacking: 0.9988425815011089\n",
      "F1-score of Stacking: 0.9988422799859231\n",
      "              precision    recall  f1-score   support\n",
      "\n",
      "           0       1.00      1.00      1.00    636697\n",
      "           1       1.00      1.00      1.00    302462\n",
      "\n",
      "    accuracy                           1.00    939159\n",
      "   macro avg       1.00      1.00      1.00    939159\n",
      "weighted avg       1.00      1.00      1.00    939159\n",
      "\n"
     ]
    },
    {
     "data": {
      "image/png": "[encoded data removed]",
      "text/plain": [
       "<Figure size 360x360 with 2 Axes>"
      ]
     },
     "metadata": {
      "needs_background": "light"
     },
     "output_type": "display_data"
    }
   ],
   "source": [
    "y_predict = stk.predict(x_test)\n",
    "y_true = y_test\n",
    "stk_score = accuracy_score(y_true,y_predict)\n",
    "print('Accuracy of Stacking: '+str(stk_score))\n",
    "precision,recall,fscore,none= precision_recall_fscore_support(y_true, y_predict, average='weighted')\n",
    "print('Precision of Stacking: '+(str(precision)))\n",
    "print('Recall of Stacking: '+ (str(recall)))\n",
    "print('F1-score of Stacking: '+(str(fscore)))\n",
    "print(classification_report(y_true,y_predict))\n",
    "cm=confusion_matrix(y_true,y_predict)\n",
    "f,ax=plt.subplots(figsize=(5,5))\n",
    "sns.heatmap(cm, annot=True, linewidth=0.5, linecolor=\"red\", fmt=\" .0f\", ax=ax)\n",
    "plt.xlabel('y_pred')\n",
    "plt.ylabel('y_true')\n",
    "plt.show()"
   ]
  },
  {
   "cell_type": "markdown",
   "id": "0cc23073",
   "metadata": {},
   "source": [
    "### Feature Selection\n",
    "\n",
    "#### Feature importance"
   ]
  },
  {
   "cell_type": "code",
   "execution_count": 34,
   "id": "7699a0b3",
   "metadata": {},
   "outputs": [],
   "source": [
    "# Save the feature importance lists generated by four tree-based algorithms\n",
    "dt_feature = dt.feature_importances_\n",
    "rf_feature = rf.feature_importances_\n",
    "et_feature = et.feature_importances_\n",
    "xgb_feature = xg.feature_importances_"
   ]
  },
  {
   "cell_type": "code",
   "execution_count": 35,
   "id": "738f1b7a",
   "metadata": {
    "scrolled": true
   },
   "outputs": [
    {
     "data": {
      "text/plain": [
       "array([0.        , 0.02302516, 0.15617894, 0.0269275 , 0.02270032,\n",
       "       0.11329875, 0.07260089, 0.01890235, 0.02110451, 0.12486062,\n",
       "       0.15999379, 0.02853683, 0.0284909 , 0.01138609, 0.01172584,\n",
       "       0.00967025, 0.01177984, 0.0510686 , 0.0302374 , 0.04730301,\n",
       "       0.03020841])"
      ]
     },
     "execution_count": 35,
     "metadata": {},
     "output_type": "execute_result"
    }
   ],
   "source": [
    "dt_feature"
   ]
  },
  {
   "cell_type": "code",
   "execution_count": 36,
   "id": "e6540849",
   "metadata": {},
   "outputs": [],
   "source": [
    "# Calculate the average importance value of each feature\n",
    "avg_feature = (dt_feature + rf_feature + et_feature +xgb_feature)/4"
   ]
  },
  {
   "cell_type": "code",
   "execution_count": 37,
   "id": "1d9fbcf9",
   "metadata": {
    "scrolled": false
   },
   "outputs": [
    {
     "name": "stdout",
     "output_type": "stream",
     "text": [
      "Features sorted by their score:\n",
      "[(0.1541, 'spd_y'), (0.1296, 'spd_x'), (0.0926, 'sender'), (0.0846, 'pos_x'), (0.0688, 'pos_y'), (0.0562, 'hed_x'), (0.0478, 'hed_y'), (0.0442, 'hed_noise_x'), (0.0364, 'hed_noise_y'), (0.0361, 'messageID'), (0.0331, 'sendTime'), (0.0325, 'spd_noise_y'), (0.0316, 'rcvTime'), (0.0313, 'spd_noise_x'), (0.0264, 'pos_noise_y'), (0.025, 'pos_noise_x'), (0.0195, 'acl_y'), (0.0185, 'acl_x'), (0.016, 'acl_noise_x'), (0.0157, 'acl_noise_y'), (0.0, 'type')]\n"
     ]
    }
   ],
   "source": [
    "feature=(read.drop(['label'],axis=1)).columns.values\n",
    "print(\"Features sorted by their score:\")\n",
    "print(sorted(zip(map(lambda x: round(x, 4), avg_feature), feature), reverse=True))"
   ]
  },
  {
   "cell_type": "code",
   "execution_count": 38,
   "id": "f613a8db",
   "metadata": {},
   "outputs": [],
   "source": [
    "f_list = sorted(zip(map(lambda x: round(x, 4), avg_feature), feature), reverse=True)"
   ]
  },
  {
   "cell_type": "code",
   "execution_count": 39,
   "id": "7f796fab",
   "metadata": {},
   "outputs": [
    {
     "data": {
      "text/plain": [
       "21"
      ]
     },
     "execution_count": 39,
     "metadata": {},
     "output_type": "execute_result"
    }
   ],
   "source": [
    "len(f_list)"
   ]
  },
  {
   "cell_type": "code",
   "execution_count": 40,
   "id": "a5a81ee9",
   "metadata": {},
   "outputs": [],
   "source": [
    "# Select the important features from top-importance to bottom-importance until the accumulated importance reaches 0.9 (out of 1)\n",
    "Sum = 0\n",
    "fs = []\n",
    "for i in range(0, len(f_list)):\n",
    "    Sum= Sum + f_list[i][0]\n",
    "    fs.append(f_list[i][1])\n",
    "    if Sum>=0.6338:\n",
    "        break"
   ]
  },
  {
   "cell_type": "code",
   "execution_count": 41,
   "id": "9b0b6edf",
   "metadata": {},
   "outputs": [],
   "source": [
    "X_fs = read[fs].values"
   ]
  },
  {
   "cell_type": "code",
   "execution_count": 42,
   "id": "b944d032",
   "metadata": {},
   "outputs": [],
   "source": [
    "X_train, X_test, y_train, y_test = train_test_split(X_fs, y, train_size=0.8, test_size=0.2, random_state=0, stratify=y)"
   ]
  },
  {
   "cell_type": "code",
   "execution_count": 43,
   "id": "b9121fcc",
   "metadata": {
    "scrolled": true
   },
   "outputs": [
    {
     "data": {
      "text/plain": [
       "(3756636, 8)"
      ]
     },
     "execution_count": 43,
     "metadata": {},
     "output_type": "execute_result"
    }
   ],
   "source": [
    "X_train.shape"
   ]
  },
  {
   "cell_type": "code",
   "execution_count": 44,
   "id": "350144ca",
   "metadata": {},
   "outputs": [
    {
     "data": {
      "text/plain": [
       "0    2546787\n",
       "1    1209849\n",
       "dtype: int64"
      ]
     },
     "execution_count": 44,
     "metadata": {},
     "output_type": "execute_result"
    }
   ],
   "source": [
    "pd.Series(y_train).value_counts()"
   ]
  },
  {
   "cell_type": "markdown",
   "id": "e9d39e01",
   "metadata": {},
   "source": [
    "#### Machine learning model training after feature selection"
   ]
  },
  {
   "cell_type": "code",
   "execution_count": 45,
   "id": "65b2d41f",
   "metadata": {
    "scrolled": true
   },
   "outputs": [
    {
     "name": "stdout",
     "output_type": "stream",
     "text": [
      "Accuracy of DT: 0.9986477263168431\n",
      "Precision of DT:0.9988429096277117\n",
      "Recall of DT: 0.9988425815011089\n",
      "F1-score of DT: 0.9988422799859231\n",
      "              precision    recall  f1-score   support\n",
      "\n",
      "           0       1.00      1.00      1.00    636697\n",
      "           1       1.00      1.00      1.00    302462\n",
      "\n",
      "    accuracy                           1.00    939159\n",
      "   macro avg       1.00      1.00      1.00    939159\n",
      "weighted avg       1.00      1.00      1.00    939159\n",
      "\n"
     ]
    },
    {
     "data": {
      "image/png": "[encoded data removed]",
      "text/plain": [
       "<Figure size 360x360 with 2 Axes>"
      ]
     },
     "metadata": {
      "needs_background": "light"
     },
     "output_type": "display_data"
    }
   ],
   "source": [
    "# Decision tree training and prediction\n",
    "dt = DecisionTreeClassifier(random_state = 0)\n",
    "dt.fit(X_train, y_train)\n",
    "dt_score=dt.score(X_test, y_test)\n",
    "y_pred=dt.predict(X_test)\n",
    "y_true=y_test\n",
    "print('Accuracy of DT: '+str(dt_score))\n",
    "precision, recall, fscore, none = precision_recall_fscore_support(y_true, y_predict, average='weighted')\n",
    "print('Precision of DT:' +(str(precision)))\n",
    "print('Recall of DT: ' +(str(recall)))\n",
    "print('F1-score of DT: ' +(str(fscore)))\n",
    "print(classification_report(y_true, y_predict))\n",
    "cm = confusion_matrix(y_true, y_predict)\n",
    "f, ax = plt.subplots(figsize=(5,5))\n",
    "sns.heatmap(cm,annot=True,linewidth=0.5,linecolor=\"red\",fmt=\".0f\",ax=ax)\n",
    "plt.xlabel(\"y_pred\")\n",
    "plt.ylabel('y_true')\n",
    "plt.show()"
   ]
  },
  {
   "cell_type": "code",
   "execution_count": 46,
   "id": "68edc563",
   "metadata": {},
   "outputs": [],
   "source": [
    "dt_train = dt.predict(X_train)\n",
    "dt_test = dt.predict(X_test)"
   ]
  },
  {
   "cell_type": "code",
   "execution_count": 47,
   "id": "5df22685",
   "metadata": {
    "scrolled": true
   },
   "outputs": [
    {
     "name": "stdout",
     "output_type": "stream",
     "text": [
      "Accuracy of RF: 0.9986711515302521\n",
      "Precision of RF: 0.9986717660521514\n",
      "Recall of RF: 0.9986711515302521\n",
      "F1-score of RF: 0.9986707131985552\n",
      "              precision    recall  f1-score   support\n",
      "\n",
      "           0       1.00      1.00      1.00    636697\n",
      "           1       1.00      1.00      1.00    302462\n",
      "\n",
      "    accuracy                           1.00    939159\n",
      "   macro avg       1.00      1.00      1.00    939159\n",
      "weighted avg       1.00      1.00      1.00    939159\n",
      "\n"
     ]
    },
    {
     "data": {
      "image/png": "[encoded data removed]",
      "text/plain": [
       "<Figure size 360x360 with 2 Axes>"
      ]
     },
     "metadata": {
      "needs_background": "light"
     },
     "output_type": "display_data"
    }
   ],
   "source": [
    "# Random Forest training and prediction\n",
    "rf = RandomForestClassifier(random_state = 0, n_jobs=-1, max_depth=50)\n",
    "rf.fit(X_train,y_train)\n",
    "rf_score=rf.score(X_test,y_test)\n",
    "y_predict=rf.predict(X_test)\n",
    "y_true=y_test\n",
    "print('Accuracy of RF: ' +(str(rf_score)))\n",
    "precision,recall,fscore,none = precision_recall_fscore_support(y_true, y_predict, average='weighted')\n",
    "print('Precision of RF: '+(str(precision)))\n",
    "print('Recall of RF: '+(str(recall)))\n",
    "print('F1-score of RF: '+(str(fscore)))\n",
    "print(classification_report(y_true, y_predict))\n",
    "cm = confusion_matrix(y_true,y_predict)\n",
    "f,ax = plt.subplots(figsize=(5,5))\n",
    "sns.heatmap(cm, annot=True, linewidth=0.5,linecolor=\"red\",fmt='.0f',ax=ax)\n",
    "plt.xlabel(\"y_pred\")\n",
    "plt.ylabel(\"y_true\")\n",
    "plt.show()"
   ]
  },
  {
   "cell_type": "code",
   "execution_count": 48,
   "id": "4416b5f4",
   "metadata": {},
   "outputs": [],
   "source": [
    "rf_train = dt.predict(X_train)\n",
    "rf_test = dt.predict(X_test)"
   ]
  },
  {
   "cell_type": "code",
   "execution_count": 49,
   "id": "e462d3a4",
   "metadata": {},
   "outputs": [
    {
     "name": "stdout",
     "output_type": "stream",
     "text": [
      "Accuracy of ET: 0.9987605932541774\n",
      "Precision of ET: 0.9987608565514389\n",
      "Recall of ET: 0.9987605932541774\n",
      "F1-score of ET: 0.9987602763231873\n",
      "              precision    recall  f1-score   support\n",
      "\n",
      "           0       1.00      1.00      1.00    636697\n",
      "           1       1.00      1.00      1.00    302462\n",
      "\n",
      "    accuracy                           1.00    939159\n",
      "   macro avg       1.00      1.00      1.00    939159\n",
      "weighted avg       1.00      1.00      1.00    939159\n",
      "\n"
     ]
    },
    {
     "data": {
      "image/png": "[encoded data removed]",
      "text/plain": [
       "<Figure size 360x360 with 2 Axes>"
      ]
     },
     "metadata": {
      "needs_background": "light"
     },
     "output_type": "display_data"
    }
   ],
   "source": [
    "# Extra trees training and prediction\n",
    "et = ExtraTreesClassifier(random_state=0, n_jobs=-1, max_depth=50)\n",
    "et.fit(X_train,y_train)\n",
    "et_score = et.score(X_test,y_test)\n",
    "y_predict=et.predict(X_test)\n",
    "y_true=y_test\n",
    "print('Accuracy of ET: '+ str(et_score))\n",
    "precision,recall,fscore,none = precision_recall_fscore_support(y_true, y_predict, average='weighted')\n",
    "print('Precision of ET: '+(str(precision)))\n",
    "print('Recall of ET: '+(str(recall)))\n",
    "print('F1-score of ET: '+(str(fscore)))\n",
    "print(classification_report(y_true,y_predict))\n",
    "cm=confusion_matrix(y_true,y_predict)\n",
    "f, ax=plt.subplots(figsize=(5,5))\n",
    "sns.heatmap(cm,annot=True,linewidth=0.5,linecolor=\"red\",fmt=\".0f\",ax=ax)\n",
    "plt.xlabel(\"y_pred\")\n",
    "plt.ylabel('y_true')\n",
    "plt.show()"
   ]
  },
  {
   "cell_type": "code",
   "execution_count": 50,
   "id": "c38cd215",
   "metadata": {},
   "outputs": [],
   "source": [
    "et_train = rf.predict(X_train)\n",
    "et_test = rf.predict(X_test)"
   ]
  },
  {
   "cell_type": "code",
   "execution_count": 51,
   "id": "27f287a3",
   "metadata": {},
   "outputs": [
    {
     "name": "stdout",
     "output_type": "stream",
     "text": [
      "[13:32:35] WARNING: C:/Users/Administrator/workspace/xgboost-win64_release_1.5.1/src/learner.cc:1115: Starting in XGBoost 1.3.0, the default evaluation metric used with the objective 'binary:logistic' was changed from 'error' to 'logloss'. Explicitly set eval_metric if you'd like to restore the old behavior.\n",
      "Accuracy of XGBoost: 0.9977746047261433\n",
      "Precision of XGBoost: 0.9977764094605532\n",
      "Recall of XGBoost: 0.9977746047261433\n",
      "F1-score of XGBoost: 0.9977733548460964\n",
      "              precision    recall  f1-score   support\n",
      "\n",
      "           0       1.00      1.00      1.00    636697\n",
      "           1       1.00      0.99      1.00    302462\n",
      "\n",
      "    accuracy                           1.00    939159\n",
      "   macro avg       1.00      1.00      1.00    939159\n",
      "weighted avg       1.00      1.00      1.00    939159\n",
      "\n"
     ]
    },
    {
     "data": {
      "image/png": "[encoded data removed]",
      "text/plain": [
       "<Figure size 360x360 with 2 Axes>"
      ]
     },
     "metadata": {
      "needs_background": "light"
     },
     "output_type": "display_data"
    }
   ],
   "source": [
    "# XGboost training and prediction\n",
    "xg = xgb.XGBClassifier(n_estimators=10, n_jobs=-1, max_depth=50)\n",
    "xg.fit(X_train,y_train)\n",
    "xg_score = xg.score(X_test,y_test)\n",
    "y_predict=xg.predict(X_test)\n",
    "y_true=y_test\n",
    "print('Accuracy of XGBoost: '+ str(xg_score))\n",
    "precision,recall,fscore,none = precision_recall_fscore_support(y_true, y_predict, average='weighted')\n",
    "print('Precision of XGBoost: '+(str(precision)))\n",
    "print('Recall of XGBoost: '+(str(recall)))\n",
    "print('F1-score of XGBoost: '+(str(fscore)))\n",
    "print(classification_report(y_true,y_predict))\n",
    "cm=confusion_matrix(y_true,y_predict)\n",
    "f, ax=plt.subplots(figsize=(5,5))\n",
    "sns.heatmap(cm,annot=True,linewidth=0.5,linecolor=\"red\",fmt=\".0f\",ax=ax)\n",
    "plt.xlabel(\"y_pred\")\n",
    "plt.ylabel('y_true')\n",
    "plt.show()"
   ]
  },
  {
   "cell_type": "code",
   "execution_count": 52,
   "id": "c4646499",
   "metadata": {},
   "outputs": [],
   "source": [
    "xg_train = xg.predict(X_train)\n",
    "xg_test = xg.predict(X_test)"
   ]
  },
  {
   "cell_type": "markdown",
   "id": "df870b7f",
   "metadata": {},
   "source": [
    "#### Stacking model construction"
   ]
  },
  {
   "cell_type": "code",
   "execution_count": 53,
   "id": "d26d650d",
   "metadata": {
    "scrolled": true
   },
   "outputs": [
    {
     "data": {
      "text/html": [
       "<div>\n",
       "<style scoped>\n",
       "    .dataframe tbody tr th:only-of-type {\n",
       "        vertical-align: middle;\n",
       "    }\n",
       "\n",
       "    .dataframe tbody tr th {\n",
       "        vertical-align: top;\n",
       "    }\n",
       "\n",
       "    .dataframe thead th {\n",
       "        text-align: right;\n",
       "    }\n",
       "</style>\n",
       "<table border=\"1\" class=\"dataframe\">\n",
       "  <thead>\n",
       "    <tr style=\"text-align: right;\">\n",
       "      <th></th>\n",
       "      <th>DecisionTree</th>\n",
       "      <th>RandomForest</th>\n",
       "      <th>ExtraTrees</th>\n",
       "      <th>XGBoost</th>\n",
       "    </tr>\n",
       "  </thead>\n",
       "  <tbody>\n",
       "    <tr>\n",
       "      <th>0</th>\n",
       "      <td>0</td>\n",
       "      <td>0</td>\n",
       "      <td>0</td>\n",
       "      <td>0</td>\n",
       "    </tr>\n",
       "    <tr>\n",
       "      <th>1</th>\n",
       "      <td>0</td>\n",
       "      <td>0</td>\n",
       "      <td>0</td>\n",
       "      <td>0</td>\n",
       "    </tr>\n",
       "    <tr>\n",
       "      <th>2</th>\n",
       "      <td>0</td>\n",
       "      <td>0</td>\n",
       "      <td>0</td>\n",
       "      <td>0</td>\n",
       "    </tr>\n",
       "    <tr>\n",
       "      <th>3</th>\n",
       "      <td>1</td>\n",
       "      <td>1</td>\n",
       "      <td>1</td>\n",
       "      <td>1</td>\n",
       "    </tr>\n",
       "    <tr>\n",
       "      <th>4</th>\n",
       "      <td>0</td>\n",
       "      <td>0</td>\n",
       "      <td>0</td>\n",
       "      <td>0</td>\n",
       "    </tr>\n",
       "  </tbody>\n",
       "</table>\n",
       "</div>"
      ],
      "text/plain": [
       "   DecisionTree  RandomForest  ExtraTrees  XGBoost\n",
       "0             0             0           0        0\n",
       "1             0             0           0        0\n",
       "2             0             0           0        0\n",
       "3             1             1           1        1\n",
       "4             0             0           0        0"
      ]
     },
     "execution_count": 53,
     "metadata": {},
     "output_type": "execute_result"
    }
   ],
   "source": [
    "base_predictions_train = pd.DataFrame({\n",
    "    'DecisionTree': dt_train.ravel(),\n",
    "    'RandomForest': rf_train.ravel(),\n",
    "    'ExtraTrees': et_train.ravel(),\n",
    "    'XGBoost': xg_train.ravel(),\n",
    "})\n",
    "base_predictions_train.head(5)"
   ]
  },
  {
   "cell_type": "code",
   "execution_count": 54,
   "id": "eaffc137",
   "metadata": {},
   "outputs": [],
   "source": [
    "dt_train=dt_train.reshape(-1,1)\n",
    "et_train=et_train.reshape(-1,1)\n",
    "rf_train=rf_train.reshape(-1,1)\n",
    "xg_train=xg_train.reshape(-1,1)\n",
    "dt_test=dt_test.reshape(-1,1)\n",
    "et_test=et_test.reshape(-1,1)\n",
    "rf_test=rf_test.reshape(-1,1)\n",
    "xg_test=xg_test.reshape(-1,1)"
   ]
  },
  {
   "cell_type": "code",
   "execution_count": 55,
   "id": "f756f103",
   "metadata": {},
   "outputs": [],
   "source": [
    "x_train= np.concatenate((dt_train, et_train, rf_train, xg_train), axis=1)\n",
    "x_test= np.concatenate((dt_test, et_test, rf_test, xg_test), axis=1)"
   ]
  },
  {
   "cell_type": "code",
   "execution_count": 56,
   "id": "d532fec6",
   "metadata": {
    "scrolled": true
   },
   "outputs": [
    {
     "name": "stdout",
     "output_type": "stream",
     "text": [
      "[13:34:26] WARNING: C:/Users/Administrator/workspace/xgboost-win64_release_1.5.1/src/learner.cc:1115: Starting in XGBoost 1.3.0, the default evaluation metric used with the objective 'binary:logistic' was changed from 'error' to 'logloss'. Explicitly set eval_metric if you'd like to restore the old behavior.\n",
      "Accuracy of Stacking: 0.9986477263168431\n",
      "Precision of Stacking: 0.9986478180771202\n",
      "Recall of Stacking: 0.9986477263168431\n",
      "F1-score of Stacking: 0.9986477662053544\n",
      "              precision    recall  f1-score   support\n",
      "\n",
      "           0       1.00      1.00      1.00    636697\n",
      "           1       1.00      1.00      1.00    302462\n",
      "\n",
      "    accuracy                           1.00    939159\n",
      "   macro avg       1.00      1.00      1.00    939159\n",
      "weighted avg       1.00      1.00      1.00    939159\n",
      "\n"
     ]
    },
    {
     "data": {
      "image/png": "[encoded data removed]",
      "text/plain": [
       "<Figure size 360x360 with 2 Axes>"
      ]
     },
     "metadata": {
      "needs_background": "light"
     },
     "output_type": "display_data"
    }
   ],
   "source": [
    "stk = xgb.XGBClassifier().fit(x_train, y_train)\n",
    "y_predict = stk.predict(x_test)\n",
    "y_true = y_test\n",
    "stk_score = accuracy_score(y_true,y_predict)\n",
    "print('Accuracy of Stacking: '+str(stk_score))\n",
    "precision,recall,fscore,none= precision_recall_fscore_support(y_true, y_predict, average='weighted')\n",
    "print('Precision of Stacking: '+(str(precision)))\n",
    "print('Recall of Stacking: '+ (str(recall)))\n",
    "print('F1-score of Stacking: '+(str(fscore)))\n",
    "print(classification_report(y_true,y_predict))\n",
    "cm=confusion_matrix(y_true,y_predict)\n",
    "f,ax=plt.subplots(figsize=(5,5))\n",
    "sns.heatmap(cm, annot=True, linewidth=0.5, linecolor=\"red\", fmt=\" .0f\", ax=ax)\n",
    "plt.xlabel('y_pred')\n",
    "plt.ylabel('y_true')\n",
    "plt.show()"
   ]
  },
  {
   "cell_type": "markdown",
   "id": "86e81f53",
   "metadata": {},
   "source": [
    "#### read in the test dataset"
   ]
  },
  {
   "cell_type": "code",
   "execution_count": 57,
   "id": "8071a736",
   "metadata": {},
   "outputs": [],
   "source": [
    "test = pd.read_csv('/Users/Opeyemi/Desktop/Secure_Auto_ECE599/MP_HW/testing_data.csv')"
   ]
  },
  {
   "cell_type": "code",
   "execution_count": 58,
   "id": "9cac1c7e",
   "metadata": {},
   "outputs": [],
   "source": [
    "test_dup = test"
   ]
  },
  {
   "cell_type": "code",
   "execution_count": 59,
   "id": "a9f27774",
   "metadata": {
    "scrolled": true
   },
   "outputs": [
    {
     "data": {
      "text/plain": [
       "(2908498, 21)"
      ]
     },
     "execution_count": 59,
     "metadata": {},
     "output_type": "execute_result"
    }
   ],
   "source": [
    "test.shape"
   ]
  },
  {
   "cell_type": "code",
   "execution_count": 60,
   "id": "7cbd28ea",
   "metadata": {},
   "outputs": [],
   "source": [
    "test= test[['type', 'messageID', 'sender', 'sendTime', 'rcvTime', 'pos_x', 'pos_y', \n",
    "                   'pos_noise_x', 'pos_noise_y', 'spd_x', 'spd_y', 'spd_noise_x', 'spd_noise_y', \n",
    "                    'acl_x', 'acl_y', 'acl_noise_x', 'acl_noise_y', 'hed_x', \n",
    "                   'hed_y', 'hed_noise_x', 'hed_noise_y']]"
   ]
  },
  {
   "cell_type": "markdown",
   "id": "bcb3e4b1",
   "metadata": {},
   "source": [
    "#### Preprocessing (normalization and padding values)"
   ]
  },
  {
   "cell_type": "code",
   "execution_count": 61,
   "id": "ce662763",
   "metadata": {},
   "outputs": [],
   "source": [
    "# Min-max normalization\n",
    "numeric_features = test.dtypes[test.dtypes != 'object'].index\n",
    "test[numeric_features] = test[numeric_features].apply(lambda x: (x-x.min()) / (x.max()-x.min()))\n",
    "# Fill empty values with 0\n",
    "test = test.fillna(0)"
   ]
  },
  {
   "cell_type": "code",
   "execution_count": 62,
   "id": "5c6a34e9",
   "metadata": {},
   "outputs": [],
   "source": [
    "test_fs = test[fs].values"
   ]
  },
  {
   "cell_type": "code",
   "execution_count": 63,
   "id": "354afe94",
   "metadata": {},
   "outputs": [
    {
     "data": {
      "text/plain": [
       "(2908498, 8)"
      ]
     },
     "execution_count": 63,
     "metadata": {},
     "output_type": "execute_result"
    }
   ],
   "source": [
    "test_fs.shape"
   ]
  },
  {
   "cell_type": "code",
   "execution_count": 64,
   "id": "cd5e287b",
   "metadata": {},
   "outputs": [],
   "source": [
    "test_labels = xg.predict(test_fs)"
   ]
  },
  {
   "cell_type": "code",
   "execution_count": 65,
   "id": "4530843c",
   "metadata": {},
   "outputs": [
    {
     "data": {
      "text/plain": [
       "array([1, 1, 1, ..., 0, 0, 1], dtype=int64)"
      ]
     },
     "execution_count": 65,
     "metadata": {},
     "output_type": "execute_result"
    }
   ],
   "source": [
    "test_labels"
   ]
  },
  {
   "cell_type": "code",
   "execution_count": 66,
   "id": "afe1240d",
   "metadata": {},
   "outputs": [],
   "source": [
    "test['label'] = test_labels"
   ]
  },
  {
   "cell_type": "code",
   "execution_count": 67,
   "id": "109ee233",
   "metadata": {},
   "outputs": [],
   "source": [
    "test.drop('messageID', axis=1, inplace=True)"
   ]
  },
  {
   "cell_type": "code",
   "execution_count": 68,
   "id": "0f153405",
   "metadata": {},
   "outputs": [],
   "source": [
    "test['messageID'] = test_dup['messageID']"
   ]
  },
  {
   "cell_type": "code",
   "execution_count": 69,
   "id": "8e2dde99",
   "metadata": {},
   "outputs": [],
   "source": [
    "test= test[['type', 'messageID', 'sender', 'sendTime', 'rcvTime', 'pos_x', 'pos_y', \n",
    "                   'pos_noise_x', 'pos_noise_y', 'spd_x', 'spd_y', 'spd_noise_x', 'spd_noise_y', \n",
    "                    'acl_x', 'acl_y', 'acl_noise_x', 'acl_noise_y', 'hed_x', \n",
    "                   'hed_y', 'hed_noise_x', 'hed_noise_y', 'label']]"
   ]
  },
  {
   "cell_type": "code",
   "execution_count": 70,
   "id": "2556bf3c",
   "metadata": {},
   "outputs": [],
   "source": [
    "results = test[['messageID', 'label']]"
   ]
  },
  {
   "cell_type": "code",
   "execution_count": 71,
   "id": "934adaa3",
   "metadata": {},
   "outputs": [],
   "source": [
    "results = results.sort_values('messageID')"
   ]
  },
  {
   "cell_type": "code",
   "execution_count": 72,
   "id": "f17b2623",
   "metadata": {},
   "outputs": [],
   "source": [
    "uniq = results['messageID'].unique()"
   ]
  },
  {
   "cell_type": "code",
   "execution_count": 73,
   "id": "d49596b0",
   "metadata": {},
   "outputs": [],
   "source": [
    "results_3 = results"
   ]
  },
  {
   "cell_type": "code",
   "execution_count": 74,
   "id": "d3188943",
   "metadata": {},
   "outputs": [],
   "source": [
    "df = results_3.drop_duplicates(subset=['messageID'], keep='last')"
   ]
  },
  {
   "cell_type": "code",
   "execution_count": 75,
   "id": "4c964167",
   "metadata": {},
   "outputs": [
    {
     "data": {
      "text/html": [
       "<div>\n",
       "<style scoped>\n",
       "    .dataframe tbody tr th:only-of-type {\n",
       "        vertical-align: middle;\n",
       "    }\n",
       "\n",
       "    .dataframe tbody tr th {\n",
       "        vertical-align: top;\n",
       "    }\n",
       "\n",
       "    .dataframe thead th {\n",
       "        text-align: right;\n",
       "    }\n",
       "</style>\n",
       "<table border=\"1\" class=\"dataframe\">\n",
       "  <thead>\n",
       "    <tr style=\"text-align: right;\">\n",
       "      <th></th>\n",
       "      <th>messageID</th>\n",
       "      <th>label</th>\n",
       "    </tr>\n",
       "  </thead>\n",
       "  <tbody>\n",
       "    <tr>\n",
       "      <th>1325225</th>\n",
       "      <td>139624065</td>\n",
       "      <td>1</td>\n",
       "    </tr>\n",
       "    <tr>\n",
       "      <th>0</th>\n",
       "      <td>139624871</td>\n",
       "      <td>1</td>\n",
       "    </tr>\n",
       "    <tr>\n",
       "      <th>452</th>\n",
       "      <td>139635306</td>\n",
       "      <td>1</td>\n",
       "    </tr>\n",
       "    <tr>\n",
       "      <th>2197166</th>\n",
       "      <td>139636223</td>\n",
       "      <td>1</td>\n",
       "    </tr>\n",
       "    <tr>\n",
       "      <th>2652855</th>\n",
       "      <td>139636569</td>\n",
       "      <td>0</td>\n",
       "    </tr>\n",
       "    <tr>\n",
       "      <th>...</th>\n",
       "      <td>...</td>\n",
       "      <td>...</td>\n",
       "    </tr>\n",
       "    <tr>\n",
       "      <th>2613813</th>\n",
       "      <td>224155327</td>\n",
       "      <td>0</td>\n",
       "    </tr>\n",
       "    <tr>\n",
       "      <th>2613814</th>\n",
       "      <td>224156120</td>\n",
       "      <td>0</td>\n",
       "    </tr>\n",
       "    <tr>\n",
       "      <th>2614931</th>\n",
       "      <td>224156455</td>\n",
       "      <td>0</td>\n",
       "    </tr>\n",
       "    <tr>\n",
       "      <th>2613815</th>\n",
       "      <td>224159133</td>\n",
       "      <td>0</td>\n",
       "    </tr>\n",
       "    <tr>\n",
       "      <th>2614932</th>\n",
       "      <td>224159463</td>\n",
       "      <td>0</td>\n",
       "    </tr>\n",
       "  </tbody>\n",
       "</table>\n",
       "<p>526342 rows × 2 columns</p>\n",
       "</div>"
      ],
      "text/plain": [
       "         messageID  label\n",
       "1325225  139624065      1\n",
       "0        139624871      1\n",
       "452      139635306      1\n",
       "2197166  139636223      1\n",
       "2652855  139636569      0\n",
       "...            ...    ...\n",
       "2613813  224155327      0\n",
       "2613814  224156120      0\n",
       "2614931  224156455      0\n",
       "2613815  224159133      0\n",
       "2614932  224159463      0\n",
       "\n",
       "[526342 rows x 2 columns]"
      ]
     },
     "execution_count": 75,
     "metadata": {},
     "output_type": "execute_result"
    }
   ],
   "source": [
    "df"
   ]
  },
  {
   "cell_type": "code",
   "execution_count": 76,
   "id": "155da473",
   "metadata": {},
   "outputs": [],
   "source": [
    "df.to_csv('test_results.csv', encoding='utf-8', index=False)"
   ]
  },
  {
   "cell_type": "code",
   "execution_count": null,
   "id": "fd60828b",
   "metadata": {},
   "outputs": [],
   "source": []
  }
 ],
 "metadata": {
  "kernelspec": {
   "display_name": "Python 3 (ipykernel)",
   "language": "python",
   "name": "python3"
  },
  "language_info": {
   "codemirror_mode": {
    "name": "ipython",
    "version": 3
   },
   "file_extension": ".py",
   "mimetype": "text/x-python",
   "name": "python",
   "nbconvert_exporter": "python",
   "pygments_lexer": "ipython3",
   "version": "3.9.9"
  }
 },
 "nbformat": 4,
 "nbformat_minor": 5
}
